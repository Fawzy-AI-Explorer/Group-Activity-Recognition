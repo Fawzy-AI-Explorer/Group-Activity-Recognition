{
 "cells": [
  {
   "cell_type": "code",
   "execution_count": 46,
   "metadata": {},
   "outputs": [],
   "source": [
    "import sys, os\n",
    "\n",
    "# Add project root so that `src` package is discoverable\n",
    "project_root = os.path.abspath(os.path.join(\"..\", \"..\"))\n",
    "if project_root not in sys.path:\n",
    "    sys.path.append(project_root)"
   ]
  },
  {
   "cell_type": "code",
   "execution_count": null,
   "metadata": {},
   "outputs": [],
   "source": []
  },
  {
   "cell_type": "code",
   "execution_count": null,
   "metadata": {},
   "outputs": [],
   "source": [
    "import os\n",
    "import pickle\n",
    "\n",
    "def load_pkl():\n",
    "    # Get project root (2 levels up from notebook folder)\n",
    "    project_root = os.path.abspath(os.path.join(\"..\", \"..\"))\n",
    "    file_path = os.path.join(project_root, \"datapkl\", \"annot_all.pkl\")\n",
    "\n",
    "    with open(file_path, \"rb\") as file:\n",
    "        videos_annot = pickle.load(file)\n",
    "    return videos_annot, file_path\n",
    "\n",
    "videos_annot_dct, file_path = load_pkl()\n",
    "\n",
    "\n",
    "\n",
    "\n",
    "\n",
    "\n",
    "from src.enums.PathEnums import Paths\n",
    "data_annot = []\n",
    "labels = set()\n",
    "\n",
    "\n",
    "for video_id, clips in videos_annot_dct.items():  # each video\n",
    "    \n",
    "    for clip_id, clip_data in clips.items():  # each clip\n",
    "        category = clip_data['category']\n",
    "        labels.add(category)\n",
    "        \n",
    "        for frame_id, boxes in clip_data[\"frame_boxes_dct\"].items(): # Frames\n",
    "\n",
    "            frame_path = f\"{Paths.VIDEOS_ROOT.value}/{video_id}/{clip_id}/{frame_id}.jpg\"\n",
    "            data_annot.append(\n",
    "                {\n",
    "                \"path\": frame_path,\n",
    "                \"category\" :category\n",
    "                }\n",
    "            )\n",
    "\n",
    "print(f\"{len(labels)} labels: {labels}\\n\\n\")\n",
    "\n",
    "categories_dct = {\n",
    "        'l-pass': 0,\n",
    "        'r-pass': 1,\n",
    "        'l-spike': 2,\n",
    "        'r_spike': 3,\n",
    "        'l_set': 4,\n",
    "        'r_set': 5,\n",
    "        'l_winpoint': 6,\n",
    "        'r_winpoint': 7\n",
    "    }\n",
    "\n",
    "\n",
    "len_dataset = len(data_annot)\n",
    "len_dataset, int(len_dataset*0.6), int(len_dataset*0.3), int(len_dataset*0.1)\n",
    "\n",
    "from pathlib import Path\n",
    "\n",
    "\n",
    "# Group-Activity-Recognition/data\n",
    "\n",
    "\n",
    "FRAMES_PATH = Path(\"../../FramesData/\")\n",
    "TRAIN_PATH =  FRAMES_PATH / \"train\"\n",
    "VALID_PATH = FRAMES_PATH / \"valid\"\n",
    "TEST_PATH = FRAMES_PATH / \"test\"\n",
    "print(TRAIN_PATH, VALID_PATH, TEST_PATH)\n",
    "\n",
    "if FRAMES_PATH.is_dir():\n",
    "    print(f\"{FRAMES_PATH} directory exists.\")\n",
    "\n",
    "\n",
    "FRAMES_PATH.mkdir(parents=True, exist_ok=True)\n",
    "TRAIN_PATH.mkdir(parents=True, exist_ok=True)\n",
    "VALID_PATH.mkdir(parents=True, exist_ok=True)\n",
    "TEST_PATH.mkdir(parents=True, exist_ok=True)\n",
    "\n"
   ]
  },
  {
   "cell_type": "code",
   "execution_count": null,
   "metadata": {},
   "outputs": [],
   "source": []
  },
  {
   "cell_type": "code",
   "execution_count": null,
   "metadata": {},
   "outputs": [],
   "source": []
  },
  {
   "cell_type": "code",
   "execution_count": 50,
   "metadata": {},
   "outputs": [],
   "source": [
    "import os\n",
    "import pickle\n",
    "\n",
    "def load_pkl():\n",
    "    # Get project root (2 levels up from notebook folder)\n",
    "    project_root = os.path.abspath(os.path.join(\"..\", \"..\"))\n",
    "    file_path = os.path.join(project_root, \"datapkl\", \"annot_all.pkl\")\n",
    "\n",
    "    with open(file_path, \"rb\") as file:\n",
    "        videos_annot = pickle.load(file)\n",
    "    return videos_annot, file_path\n",
    "\n",
    "videos_annot_dct, file_path = load_pkl()"
   ]
  },
  {
   "cell_type": "code",
   "execution_count": 51,
   "metadata": {},
   "outputs": [
    {
     "name": "stdout",
     "output_type": "stream",
     "text": [
      "55\n"
     ]
    }
   ],
   "source": [
    "print(len(videos_annot_dct))"
   ]
  },
  {
   "cell_type": "code",
   "execution_count": 52,
   "metadata": {},
   "outputs": [],
   "source": []
  },
  {
   "cell_type": "code",
   "execution_count": 53,
   "metadata": {},
   "outputs": [],
   "source": [
    "from src.enums.PathEnums import Paths\n",
    "data_annot = []\n",
    "labels = set()\n",
    "\n",
    "\n",
    "for video_id, clips in videos_annot_dct.items():  # each video\n",
    "    \n",
    "    for clip_id, clip_data in clips.items():  # each clip\n",
    "        category = clip_data['category']\n",
    "        labels.add(category)\n",
    "        \n",
    "        for frame_id, boxes in clip_data[\"frame_boxes_dct\"].items(): # Frames\n",
    "\n",
    "            frame_path = f\"{Paths.VIDEOS_ROOT.value}/{video_id}/{clip_id}/{frame_id}.jpg\"\n",
    "            data_annot.append(\n",
    "                {\n",
    "                \"path\": frame_path,\n",
    "                \"category\" :category\n",
    "                }\n",
    "            )\n",
    "\n",
    "print(f\"{len(labels)} labels: {labels}\\n\\n\")\n",
    "\n",
    "categories_dct = {\n",
    "        'l-pass': 0,\n",
    "        'r-pass': 1,\n",
    "        'l-spike': 2,\n",
    "        'r_spike': 3,\n",
    "        'l_set': 4,\n",
    "        'r_set': 5,\n",
    "        'l_winpoint': 6,\n",
    "        'r_winpoint': 7\n",
    "    }"
   ]
  },
  {
   "cell_type": "code",
   "execution_count": 57,
   "metadata": {},
   "outputs": [
    {
     "name": "stdout",
     "output_type": "stream",
     "text": [
      "8 labels: {'r_set', 'r_spike', 'l_set', 'l-spike', 'r-pass', 'l-pass', 'l_winpoint', 'r_winpoint'}\n",
      "\n",
      "\n"
     ]
    }
   ],
   "source": []
  },
  {
   "cell_type": "code",
   "execution_count": 56,
   "metadata": {},
   "outputs": [
    {
     "name": "stdout",
     "output_type": "stream",
     "text": [
      "data/volleyball/volleyball_/videos/0/13286/13281.jpg ==> r_set\n"
     ]
    }
   ],
   "source": [
    "for frame_dct in data_annot:\n",
    "    for path, cat in frame_dct.items():\n",
    "        print(frame_dct[\"path\"], \"==>\", frame_dct[\"category\"])\n",
    "        break\n",
    "    break"
   ]
  },
  {
   "cell_type": "code",
   "execution_count": null,
   "metadata": {},
   "outputs": [],
   "source": []
  },
  {
   "cell_type": "code",
   "execution_count": 64,
   "metadata": {},
   "outputs": [
    {
     "data": {
      "text/plain": [
       "(43470, 26082, 13041, 4347)"
      ]
     },
     "execution_count": 64,
     "metadata": {},
     "output_type": "execute_result"
    }
   ],
   "source": [
    "len_dataset = len(data_annot)\n",
    "len_dataset, int(len_dataset*0.6), int(len_dataset*0.3), int(len_dataset*0.1)"
   ]
  },
  {
   "cell_type": "code",
   "execution_count": 65,
   "metadata": {},
   "outputs": [
    {
     "data": {
      "text/plain": [
       "43470"
      ]
     },
     "execution_count": 65,
     "metadata": {},
     "output_type": "execute_result"
    }
   ],
   "source": [
    "int(len_dataset*0.6) +  int(len_dataset*0.3) + int(len_dataset*0.1)"
   ]
  },
  {
   "cell_type": "code",
   "execution_count": 78,
   "metadata": {},
   "outputs": [
    {
     "name": "stdout",
     "output_type": "stream",
     "text": [
      "../../FramesData/train ../../FramesData/valid ../../FramesData/test\n"
     ]
    }
   ],
   "source": [
    "from pathlib import Path\n",
    "\n",
    "\n",
    "# Group-Activity-Recognition/data\n",
    "\n",
    "\n",
    "FRAMES_PATH = Path(\"../../FramesData/\")\n",
    "TRAIN_PATH =  FRAMES_PATH / \"train\"\n",
    "VALID_PATH = FRAMES_PATH / \"valid\"\n",
    "TEST_PATH = FRAMES_PATH / \"test\"\n",
    "print(TRAIN_PATH, VALID_PATH, TEST_PATH)\n",
    "\n",
    "if FRAMES_PATH.is_dir():\n",
    "    print(f\"{FRAMES_PATH} directory exists.\")\n",
    "\n",
    "\n",
    "FRAMES_PATH.mkdir(parents=True, exist_ok=True)\n",
    "TRAIN_PATH.mkdir(parents=True, exist_ok=True)\n",
    "VALID_PATH.mkdir(parents=True, exist_ok=True)\n",
    "TEST_PATH.mkdir(parents=True, exist_ok=True)\n",
    "\n"
   ]
  },
  {
   "cell_type": "code",
   "execution_count": null,
   "metadata": {},
   "outputs": [],
   "source": []
  }
 ],
 "metadata": {
  "language_info": {
   "name": "python"
  }
 },
 "nbformat": 4,
 "nbformat_minor": 2
}
