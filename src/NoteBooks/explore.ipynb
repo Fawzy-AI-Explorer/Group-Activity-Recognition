{
 "cells": [
  {
   "cell_type": "code",
   "execution_count": 1,
   "metadata": {},
   "outputs": [],
   "source": [
    "import sys, os\n",
    "\n",
    "# Add project root so that `src` package is discoverable\n",
    "project_root = os.path.abspath(os.path.join(\"..\", \"..\"))\n",
    "if project_root not in sys.path:\n",
    "    sys.path.append(project_root)"
   ]
  },
  {
   "cell_type": "code",
   "execution_count": null,
   "metadata": {},
   "outputs": [],
   "source": []
  },
  {
   "cell_type": "code",
   "execution_count": null,
   "metadata": {},
   "outputs": [],
   "source": [
    "# import os\n",
    "# import pickle\n",
    "\n",
    "# def load_pkl():\n",
    "#     # Get project root (2 levels up from notebook folder)\n",
    "#     project_root = os.path.abspath(os.path.join(\"..\", \"..\"))\n",
    "#     file_path = os.path.join(project_root, \"datapkl\", \"annot_all.pkl\")\n",
    "\n",
    "#     with open(file_path, \"rb\") as file:\n",
    "#         videos_annot = pickle.load(file)\n",
    "#     return videos_annot, file_path\n",
    "\n",
    "# videos_annot_dct, file_path = load_pkl()\n",
    "\n",
    "\n",
    "\n",
    "\n",
    "\n",
    "\n",
    "# from src.enums.PathEnums import Paths\n",
    "# data_annot = []\n",
    "# labels = set()\n",
    "\n",
    "\n",
    "# for video_id, clips in videos_annot_dct.items():  # each video\n",
    "    \n",
    "#     for clip_id, clip_data in clips.items():  # each clip\n",
    "#         category = clip_data['category']\n",
    "#         labels.add(category)\n",
    "        \n",
    "#         for frame_id, boxes in clip_data[\"frame_boxes_dct\"].items(): # Frames\n",
    "\n",
    "#             frame_path = f\"{Paths.VIDEOS_ROOT.value}/{video_id}/{clip_id}/{frame_id}.jpg\"\n",
    "#             data_annot.append(\n",
    "#                 {\n",
    "#                 \"path\": frame_path,\n",
    "#                 \"category\" :category\n",
    "#                 }\n",
    "#             )\n",
    "\n",
    "# print(f\"{len(labels)} labels: {labels}\\n\\n\")\n",
    "\n",
    "# categories_dct = {\n",
    "#         'l-pass': 0,\n",
    "#         'r-pass': 1,\n",
    "#         'l-spike': 2,\n",
    "#         'r_spike': 3,\n",
    "#         'l_set': 4,\n",
    "#         'r_set': 5,\n",
    "#         'l_winpoint': 6,\n",
    "#         'r_winpoint': 7\n",
    "#     }\n",
    "\n",
    "\n",
    "# len_dataset = len(data_annot)\n",
    "# len_dataset, int(len_dataset*0.6), int(len_dataset*0.3), int(len_dataset*0.1)\n",
    "\n",
    "# from pathlib import Path\n",
    "\n",
    "\n",
    "# # Group-Activity-Recognition/data\n",
    "\n",
    "\n",
    "# FRAMES_PATH = Path(\"../../FramesData/\")\n",
    "# TRAIN_PATH =  FRAMES_PATH / \"train\"\n",
    "# VALID_PATH = FRAMES_PATH / \"valid\"\n",
    "# TEST_PATH = FRAMES_PATH / \"test\"\n",
    "# print(TRAIN_PATH, VALID_PATH, TEST_PATH)\n",
    "\n",
    "# if FRAMES_PATH.is_dir():\n",
    "#     print(f\"{FRAMES_PATH} directory exists.\")\n",
    "\n",
    "\n",
    "# FRAMES_PATH.mkdir(parents=True, exist_ok=True)\n",
    "# TRAIN_PATH.mkdir(parents=True, exist_ok=True)\n",
    "# VALID_PATH.mkdir(parents=True, exist_ok=True)\n",
    "# TEST_PATH.mkdir(parents=True, exist_ok=True)\n",
    "\n"
   ]
  },
  {
   "cell_type": "code",
   "execution_count": null,
   "metadata": {},
   "outputs": [],
   "source": []
  },
  {
   "cell_type": "code",
   "execution_count": null,
   "metadata": {},
   "outputs": [],
   "source": []
  },
  {
   "cell_type": "code",
   "execution_count": 2,
   "metadata": {},
   "outputs": [],
   "source": [
    "import os\n",
    "import pickle\n",
    "\n",
    "def load_pkl():\n",
    "    # Get project root (2 levels up from notebook folder)\n",
    "    project_root = os.path.abspath(os.path.join(\"..\", \"..\"))\n",
    "    file_path = os.path.join(project_root, \"datapkl\", \"annot_all.pkl\")\n",
    "\n",
    "    with open(file_path, \"rb\") as file:\n",
    "        videos_annot = pickle.load(file)\n",
    "    return videos_annot, file_path\n",
    "\n",
    "videos_annot_dct, file_path = load_pkl()"
   ]
  },
  {
   "cell_type": "code",
   "execution_count": 3,
   "metadata": {},
   "outputs": [
    {
     "name": "stdout",
     "output_type": "stream",
     "text": [
      "55\n"
     ]
    }
   ],
   "source": [
    "print(len(videos_annot_dct))"
   ]
  },
  {
   "cell_type": "code",
   "execution_count": 52,
   "metadata": {},
   "outputs": [],
   "source": []
  },
  {
   "cell_type": "code",
   "execution_count": 4,
   "metadata": {},
   "outputs": [
    {
     "name": "stdout",
     "output_type": "stream",
     "text": [
      "8 labels: {'l-spike', 'l_winpoint', 'r_set', 'r_winpoint', 'l_set', 'l-pass', 'r_spike', 'r-pass'}\n",
      "\n",
      "\n"
     ]
    }
   ],
   "source": [
    "from src.enums.PathEnums import Paths\n",
    "data_annot = []\n",
    "labels = set()\n",
    "\n",
    "\n",
    "for video_id, clips in videos_annot_dct.items():  # each video\n",
    "    \n",
    "    for clip_id, clip_data in clips.items():  # each clip\n",
    "        category = clip_data['category']\n",
    "        labels.add(category)\n",
    "        \n",
    "        for frame_id, boxes in clip_data[\"frame_boxes_dct\"].items(): # Frames\n",
    "\n",
    "            frame_path = f\"{Paths.VIDEOS_ROOT.value}/{video_id}/{clip_id}/{frame_id}.jpg\"\n",
    "            data_annot.append(\n",
    "                {\n",
    "                \"path\": frame_path,\n",
    "                \"category\" :category\n",
    "                }\n",
    "            )\n",
    "\n",
    "print(f\"{len(labels)} labels: {labels}\\n\\n\")\n",
    "\n",
    "categories_dct = {\n",
    "        'l-pass': 0,\n",
    "        'r-pass': 1,\n",
    "        'l-spike': 2,\n",
    "        'r_spike': 3,\n",
    "        'l_set': 4,\n",
    "        'r_set': 5,\n",
    "        'l_winpoint': 6,\n",
    "        'r_winpoint': 7\n",
    "    }"
   ]
  },
  {
   "cell_type": "code",
   "execution_count": null,
   "metadata": {},
   "outputs": [],
   "source": []
  },
  {
   "cell_type": "code",
   "execution_count": 5,
   "metadata": {},
   "outputs": [
    {
     "name": "stdout",
     "output_type": "stream",
     "text": [
      "data/volleyball/volleyball_/videos/0/13286/13281.jpg ==> r_set\n"
     ]
    }
   ],
   "source": [
    "for frame_dct in data_annot:\n",
    "    for path, cat in frame_dct.items():\n",
    "        print(frame_dct[\"path\"], \"==>\", frame_dct[\"category\"])\n",
    "        break\n",
    "    break"
   ]
  },
  {
   "cell_type": "code",
   "execution_count": null,
   "metadata": {},
   "outputs": [],
   "source": []
  },
  {
   "cell_type": "code",
   "execution_count": 6,
   "metadata": {},
   "outputs": [
    {
     "data": {
      "text/plain": [
       "(43470, 26082, 13041, 4347)"
      ]
     },
     "execution_count": 6,
     "metadata": {},
     "output_type": "execute_result"
    }
   ],
   "source": [
    "len_dataset = len(data_annot)\n",
    "len_dataset, int(len_dataset*0.6), int(len_dataset*0.3), int(len_dataset*0.1)"
   ]
  },
  {
   "cell_type": "code",
   "execution_count": 7,
   "metadata": {},
   "outputs": [
    {
     "data": {
      "text/plain": [
       "43470"
      ]
     },
     "execution_count": 7,
     "metadata": {},
     "output_type": "execute_result"
    }
   ],
   "source": [
    "int(len_dataset*0.6) +  int(len_dataset*0.3) + int(len_dataset*0.1)"
   ]
  },
  {
   "cell_type": "code",
   "execution_count": 24,
   "metadata": {},
   "outputs": [
    {
     "name": "stdout",
     "output_type": "stream",
     "text": [
      "../../FramesData/train ../../FramesData/valid ../../FramesData/test\n"
     ]
    }
   ],
   "source": [
    "from pathlib import Path\n",
    "\n",
    "\n",
    "# Group-Activity-Recognition/data\n",
    "\n",
    "\n",
    "FRAMES_PATH = Path(\"../../FramesData/\")\n",
    "TRAIN_PATH =  FRAMES_PATH / \"train\"\n",
    "VALID_PATH = FRAMES_PATH / \"valid\"\n",
    "TEST_PATH = FRAMES_PATH / \"test\"\n",
    "print(TRAIN_PATH, VALID_PATH, TEST_PATH)\n",
    "\n",
    "if FRAMES_PATH.is_dir():\n",
    "    print(f\"{FRAMES_PATH} directory exists.\")\n",
    "\n",
    "\n",
    "FRAMES_PATH.mkdir(parents=True, exist_ok=True)\n",
    "TRAIN_PATH.mkdir(parents=True, exist_ok=True)\n",
    "VALID_PATH.mkdir(parents=True, exist_ok=True)\n",
    "TEST_PATH.mkdir(parents=True, exist_ok=True)\n",
    "\n"
   ]
  },
  {
   "cell_type": "code",
   "execution_count": 25,
   "metadata": {},
   "outputs": [],
   "source": [
    "import random\n",
    "\n",
    "random.shuffle(data_annot)  # shuffle before splitting\n",
    "\n",
    "n_total = len(data_annot)\n",
    "n_train = int(0.6 * n_total)\n",
    "n_valid = int(0.3 * n_total)\n",
    "n_test = n_total - n_train - n_valid\n",
    "\n",
    "train_data = data_annot[:n_train]\n",
    "valid_data = data_annot[n_train:n_train+n_valid]\n",
    "test_data  = data_annot[n_train+n_valid:]"
   ]
  },
  {
   "cell_type": "code",
   "execution_count": 26,
   "metadata": {},
   "outputs": [
    {
     "name": "stdout",
     "output_type": "stream",
     "text": [
      "26082 26082\n",
      "13041 13041\n",
      "4347 4347\n"
     ]
    }
   ],
   "source": [
    "print(len(train_data), n_train)\n",
    "print(len(valid_data), n_valid)\n",
    "print(len(test_data), n_test)\n"
   ]
  },
  {
   "cell_type": "code",
   "execution_count": 27,
   "metadata": {},
   "outputs": [
    {
     "name": "stdout",
     "output_type": "stream",
     "text": [
      "data/volleyball/volleyball_/videos/14/54185/54182.jpg\n",
      "l-spike\n"
     ]
    }
   ],
   "source": [
    "for item in train_data:\n",
    "    print(item[\"path\"])\n",
    "    print(item[\"category\"])\n",
    "    break"
   ]
  },
  {
   "cell_type": "code",
   "execution_count": 28,
   "metadata": {},
   "outputs": [
    {
     "name": "stdout",
     "output_type": "stream",
     "text": [
      "42 37915.jpg\n"
     ]
    }
   ],
   "source": [
    "path = Path(r'../../data/volleyball/volleyball_/videos/42/37915/37915.jpg')\n",
    "vid_num = path.parents[1].name\n",
    "s = os.path.basename(path)\n",
    "print(vid_num, s)\n",
    "# os.path.exists(path)"
   ]
  },
  {
   "cell_type": "code",
   "execution_count": 29,
   "metadata": {},
   "outputs": [
    {
     "name": "stdout",
     "output_type": "stream",
     "text": [
      "start, ../../FramesData/train \n"
     ]
    },
    {
     "name": "stdout",
     "output_type": "stream",
     "text": [
      "override ../../FramesData/train/l-spike/vid_4_24690.jpg\n",
      "override ../../FramesData/train/r_spike/vid_15_58833.jpg\n",
      "override ../../FramesData/train/l-pass/vid_39_29942.jpg\n",
      "override ../../FramesData/train/r_spike/vid_27_51481.jpg\n",
      "override ../../FramesData/train/l-spike/vid_29_17320.jpg\n",
      "override ../../FramesData/train/r_set/vid_54_54435.jpg\n",
      "override ../../FramesData/train/r_spike/vid_15_58831.jpg\n",
      "override ../../FramesData/train/r-pass/vid_41_19705.jpg\n",
      "override ../../FramesData/train/r_spike/vid_28_23653.jpg\n",
      "override ../../FramesData/train/r_spike/vid_2_20180.jpg\n",
      "override ../../FramesData/train/r_spike/vid_40_19821.jpg\n",
      "override ../../FramesData/train/r-pass/vid_44_28948.jpg\n",
      "override ../../FramesData/train/r_set/vid_1_12723.jpg\n",
      "override ../../FramesData/train/l-spike/vid_30_42615.jpg\n",
      "override ../../FramesData/train/r_spike/vid_27_19973.jpg\n",
      "override ../../FramesData/train/r_spike/vid_0_62015.jpg\n",
      "override ../../FramesData/train/l_set/vid_52_11155.jpg\n",
      "override ../../FramesData/train/l-spike/vid_18_79965.jpg\n",
      "override ../../FramesData/train/l-pass/vid_44_22092.jpg\n",
      "override ../../FramesData/train/r_spike/vid_24_32232.jpg\n",
      "override ../../FramesData/train/r_spike/vid_6_32427.jpg\n",
      "override ../../FramesData/train/r_spike/vid_19_70418.jpg\n",
      "override ../../FramesData/train/r_spike/vid_23_45470.jpg\n",
      "override ../../FramesData/train/r_spike/vid_17_23107.jpg\n",
      "override ../../FramesData/train/l-pass/vid_44_22091.jpg\n",
      "override ../../FramesData/train/l_set/vid_37_37195.jpg\n",
      "override ../../FramesData/train/l-spike/vid_19_24991.jpg\n",
      "override ../../FramesData/train/l-spike/vid_10_46518.jpg\n",
      "override ../../FramesData/train/r-pass/vid_41_19706.jpg\n",
      "override ../../FramesData/train/l-spike/vid_42_29471.jpg\n",
      "override ../../FramesData/train/l_set/vid_52_11156.jpg\n",
      "override ../../FramesData/train/l-spike/vid_10_46516.jpg\n",
      "override ../../FramesData/train/r_spike/vid_25_35777.jpg\n",
      "override ../../FramesData/train/l-spike/vid_25_70090.jpg\n",
      "override ../../FramesData/train/l-spike/vid_23_30501.jpg\n",
      "override ../../FramesData/train/l-spike/vid_52_11188.jpg\n",
      "override ../../FramesData/train/l-spike/vid_10_46515.jpg\n",
      "override ../../FramesData/train/l-spike/vid_14_43063.jpg\n",
      "override ../../FramesData/train/l-spike/vid_8_44337.jpg\n",
      "override ../../FramesData/train/r_spike/vid_21_41597.jpg\n",
      "override ../../FramesData/train/l-spike/vid_10_99516.jpg\n",
      "override ../../FramesData/train/r_spike/vid_28_23652.jpg\n",
      "override ../../FramesData/train/l-spike/vid_30_42618.jpg\n",
      "override ../../FramesData/train/l-spike/vid_29_17227.jpg\n",
      "override ../../FramesData/train/r_spike/vid_2_20183.jpg\n",
      "override ../../FramesData/train/r_spike/vid_27_51482.jpg\n",
      "override ../../FramesData/train/r_spike/vid_28_40182.jpg\n",
      "override ../../FramesData/train/l-spike/vid_10_99518.jpg\n",
      "override ../../FramesData/train/l-spike/vid_25_70093.jpg\n",
      "override ../../FramesData/train/l-spike/vid_42_29473.jpg\n",
      "override ../../FramesData/train/l-spike/vid_52_11186.jpg\n",
      "override ../../FramesData/train/r_spike/vid_11_76582.jpg\n",
      "override ../../FramesData/train/l-spike/vid_4_105863.jpg\n",
      "override ../../FramesData/train/l-spike/vid_21_65803.jpg\n",
      "override ../../FramesData/train/l-spike/vid_4_105861.jpg\n",
      "override ../../FramesData/train/l-spike/vid_6_36420.jpg\n",
      "override ../../FramesData/train/r-pass/vid_44_28946.jpg\n",
      "override ../../FramesData/train/r-pass/vid_52_11201.jpg\n",
      "override ../../FramesData/train/l-spike/vid_6_36422.jpg\n",
      "override ../../FramesData/train/l-spike/vid_18_79967.jpg\n",
      "override ../../FramesData/train/r_spike/vid_28_40181.jpg\n",
      "override ../../FramesData/train/l-spike/vid_23_30500.jpg\n",
      "override ../../FramesData/train/l-pass/vid_52_10157.jpg\n",
      "override ../../FramesData/train/r_spike/vid_14_49435.jpg\n",
      "override ../../FramesData/train/r_spike/vid_30_12430.jpg\n",
      "override ../../FramesData/train/l-pass/vid_44_22385.jpg\n",
      "override ../../FramesData/train/l-spike/vid_44_29207.jpg\n",
      "override ../../FramesData/train/r_spike/vid_13_73608.jpg\n",
      "override ../../FramesData/train/l-pass/vid_44_20303.jpg\n",
      "override ../../FramesData/train/r_spike/vid_30_32766.jpg\n",
      "override ../../FramesData/train/l-spike/vid_16_55296.jpg\n",
      "override ../../FramesData/train/r_spike/vid_15_58832.jpg\n",
      "override ../../FramesData/train/l-spike/vid_29_17321.jpg\n",
      "override ../../FramesData/train/r_spike/vid_23_30751.jpg\n",
      "override ../../FramesData/train/r_spike/vid_30_12432.jpg\n",
      "override ../../FramesData/train/l-spike/vid_14_34601.jpg\n",
      "override ../../FramesData/train/l-spike/vid_21_65800.jpg\n",
      "override ../../FramesData/train/l-spike/vid_0_8312.jpg\n",
      "override ../../FramesData/train/r_spike/vid_31_38577.jpg\n",
      "override ../../FramesData/train/l-spike/vid_4_24693.jpg\n",
      "override ../../FramesData/train/r_spike/vid_6_32426.jpg\n",
      "override ../../FramesData/train/l-spike/vid_15_40891.jpg\n",
      "override ../../FramesData/train/l-spike/vid_17_35725.jpg\n",
      "override ../../FramesData/train/r_spike/vid_25_35775.jpg\n",
      "override ../../FramesData/train/r_spike/vid_28_40180.jpg\n",
      "override ../../FramesData/train/r_spike/vid_44_22262.jpg\n",
      "override ../../FramesData/train/r_spike/vid_23_45471.jpg\n",
      "override ../../FramesData/train/l-spike/vid_28_31535.jpg\n",
      "override ../../FramesData/train/r_spike/vid_30_32768.jpg\n",
      "override ../../FramesData/train/l-spike/vid_29_5555.jpg\n",
      "override ../../FramesData/train/l-pass/vid_44_22387.jpg\n",
      "override ../../FramesData/train/r-pass/vid_52_11218.jpg\n",
      "override ../../FramesData/train/r-pass/vid_41_19707.jpg\n",
      "override ../../FramesData/train/l_set/vid_44_17733.jpg\n",
      "override ../../FramesData/train/l-spike/vid_8_44335.jpg\n",
      "override ../../FramesData/train/l-spike/vid_25_77188.jpg\n",
      "override ../../FramesData/train/l-spike/vid_17_35727.jpg\n",
      "override ../../FramesData/train/l-spike/vid_15_40892.jpg\n",
      "override ../../FramesData/train/r_spike/vid_17_94668.jpg\n",
      "override ../../FramesData/train/l-spike/vid_25_70091.jpg\n",
      "override ../../FramesData/train/r_spike/vid_21_41595.jpg\n",
      "override ../../FramesData/train/r_set/vid_1_12721.jpg\n",
      "override ../../FramesData/train/l-spike/vid_8_44336.jpg\n",
      "override ../../FramesData/train/r-pass/vid_7_52843.jpg\n",
      "override ../../FramesData/train/l-spike/vid_17_35728.jpg\n",
      "override ../../FramesData/train/r_set/vid_1_12722.jpg\n",
      "override ../../FramesData/train/l-spike/vid_28_31537.jpg\n",
      "override ../../FramesData/train/r_spike/vid_19_70415.jpg\n",
      "override ../../FramesData/train/r-pass/vid_52_11202.jpg\n",
      "override ../../FramesData/train/l-spike/vid_17_35638.jpg\n",
      "override ../../FramesData/train/l-spike/vid_0_8314.jpg\n",
      "override ../../FramesData/train/l-pass/vid_39_29943.jpg\n",
      "override ../../FramesData/train/r_spike/vid_25_77982.jpg\n",
      "override ../../FramesData/train/r_spike/vid_17_94665.jpg\n",
      "override ../../FramesData/train/r_spike/vid_11_76580.jpg\n",
      "override ../../FramesData/train/l-spike/vid_4_24691.jpg\n",
      "override ../../FramesData/train/r_spike/vid_30_19556.jpg\n",
      "override ../../FramesData/train/l-spike/vid_29_5558.jpg\n",
      "override ../../FramesData/train/r_set/vid_54_54437.jpg\n",
      "25963\n",
      "start, ../../FramesData/valid \n",
      "override ../../FramesData/valid/r_spike/vid_30_15162.jpg\n",
      "override ../../FramesData/valid/r_spike/vid_25_77981.jpg\n",
      "override ../../FramesData/valid/r-pass/vid_52_11200.jpg\n",
      "override ../../FramesData/valid/l-spike/vid_15_40893.jpg\n",
      "override ../../FramesData/valid/r_spike/vid_30_19555.jpg\n",
      "override ../../FramesData/valid/r_spike/vid_31_38578.jpg\n",
      "override ../../FramesData/valid/l-spike/vid_24_34516.jpg\n",
      "override ../../FramesData/valid/r_spike/vid_15_58830.jpg\n",
      "override ../../FramesData/valid/r_spike/vid_24_15368.jpg\n",
      "override ../../FramesData/valid/l-spike/vid_42_29472.jpg\n",
      "override ../../FramesData/valid/l-spike/vid_20_52030.jpg\n",
      "override ../../FramesData/valid/l-spike/vid_30_42617.jpg\n",
      "override ../../FramesData/valid/r_spike/vid_23_96925.jpg\n",
      "override ../../FramesData/valid/r_spike/vid_44_22261.jpg\n",
      "override ../../FramesData/valid/l_set/vid_37_37198.jpg\n",
      "override ../../FramesData/valid/l-spike/vid_20_52033.jpg\n",
      "override ../../FramesData/valid/l_set/vid_44_17731.jpg\n",
      "override ../../FramesData/valid/r_spike/vid_30_12433.jpg\n",
      "override ../../FramesData/valid/l-spike/vid_10_68145.jpg\n",
      "override ../../FramesData/valid/r_spike/vid_30_32767.jpg\n",
      "override ../../FramesData/valid/r_spike/vid_23_45472.jpg\n",
      "override ../../FramesData/valid/r_spike/vid_32_15350.jpg\n",
      "override ../../FramesData/valid/r_spike/vid_24_15366.jpg\n",
      "override ../../FramesData/valid/r_spike/vid_23_96928.jpg\n",
      "override ../../FramesData/valid/l-spike/vid_14_34602.jpg\n",
      "override ../../FramesData/valid/r_spike/vid_32_15353.jpg\n",
      "override ../../FramesData/valid/l-spike/vid_17_35635.jpg\n",
      "override ../../FramesData/valid/r_spike/vid_27_51480.jpg\n",
      "override ../../FramesData/valid/l-spike/vid_29_17225.jpg\n",
      "override ../../FramesData/valid/l-spike/vid_14_34603.jpg\n",
      "override ../../FramesData/valid/r_spike/vid_23_45473.jpg\n",
      "override ../../FramesData/valid/r_spike/vid_30_15161.jpg\n",
      "override ../../FramesData/valid/r_spike/vid_25_32281.jpg\n",
      "override ../../FramesData/valid/r_spike/vid_17_94667.jpg\n",
      "override ../../FramesData/valid/l-pass/vid_39_29940.jpg\n",
      "override ../../FramesData/valid/r_spike/vid_28_23650.jpg\n",
      "override ../../FramesData/valid/l-spike/vid_15_40890.jpg\n",
      "override ../../FramesData/valid/r_spike/vid_28_27277.jpg\n",
      "override ../../FramesData/valid/l-spike/vid_19_24992.jpg\n",
      "13002\n",
      "start, ../../FramesData/test \n",
      "override ../../FramesData/test/r-pass/vid_7_52841.jpg\n",
      "override ../../FramesData/test/r_spike/vid_19_70417.jpg\n",
      "override ../../FramesData/test/l-spike/vid_10_68148.jpg\n",
      "4344\n"
     ]
    }
   ],
   "source": [
    "import shutil\n",
    "\n",
    "def save_split(data_split, split_path):\n",
    "    print(f\"start, {split_path} \")\n",
    "    i=0\n",
    "\n",
    "    for item in data_split:\n",
    "\n",
    "        src = os.path.join(\"../../\", Path(item[\"path\"]))\n",
    "        label = item[\"category\"]\n",
    "        dst_dir = split_path / label\n",
    "        dst_dir.mkdir(parents=True, exist_ok=True)\n",
    "\n",
    "        # print(src, os.path.exists(src))\n",
    "        # print(label)\n",
    "        # print(dst_dir)\n",
    "\n",
    "\n",
    "        vid_num = Path(src).parents[1].name\n",
    "        dst = dst_dir / f\"vid_{vid_num}_{os.path.basename(src)}\"\n",
    "        dst = dst_dir / f\"vid_{vid_num}_{os.path.basename(src)}\"\n",
    "\n",
    "        # print(vid_num)\n",
    "        # print(dst)\n",
    "\n",
    "\n",
    "        try:\n",
    "            if os.path.exists(dst):\n",
    "                # print(\"override\", dst)\n",
    "                i-=1\n",
    "            shutil.copy(src, dst)\n",
    "            i+=1\n",
    "\n",
    "        except Exception as e:\n",
    "            print(f\"Error copying {src} → {dst}: {e}\")\n",
    "\n",
    "    print(i)\n",
    "\n",
    "print(f\"train {n_train}\")\n",
    "save_split(train_data, TRAIN_PATH)\n",
    "\n",
    "print(f\"valid {n_valid}\")\n",
    "save_split(valid_data, VALID_PATH)\n",
    "\n",
    "print(f\"test {n_test}\")\n",
    "save_split(test_data, TEST_PATH)"
   ]
  },
  {
   "cell_type": "code",
   "execution_count": null,
   "metadata": {},
   "outputs": [],
   "source": []
  },
  {
   "cell_type": "code",
   "execution_count": null,
   "metadata": {},
   "outputs": [],
   "source": []
  },
  {
   "cell_type": "code",
   "execution_count": null,
   "metadata": {},
   "outputs": [],
   "source": []
  },
  {
   "cell_type": "code",
   "execution_count": 111,
   "metadata": {},
   "outputs": [
    {
     "name": "stdout",
     "output_type": "stream",
     "text": [
      "../../data/volleyball/volleyball_/videos/42/37915/37915.jpg \n",
      " l-pass ../../FramesData/train/l-pass\n"
     ]
    }
   ],
   "source": [
    "import shutil\n",
    "\n",
    "def save_split(data_split, split_path):\n",
    "\n",
    "    for item in data_split:\n",
    "\n",
    "        src = os.path.join(\"../../\", Path(item[\"path\"]))\n",
    "        label = item[\"category\"]\n",
    "        dst_dir = split_path / label\n",
    "        dst_dir.mkdir(parents=True, exist_ok=True)\n",
    "\n",
    "        print(src, \"\\n\", label, dst_dir)\n",
    "\n",
    "        # vid_num = src.parents[1].name\n",
    "        # print(vid_num)\n",
    "        # dst = dst_dir / f\"vid_{vid_num}_{os.path.basename(src)}\"\n",
    "        # # dst = dst_dir / f\"{vid_num}_{os.path.basename(src)}\"\n",
    "\n",
    "        # print(src)\n",
    "        # print(dst)\n",
    "        break\n",
    "\n",
    "        # try:\n",
    "        #     if not os.path.exists(src):\n",
    "\n",
    "        #     if dst.exists():\n",
    "        #         print(f\"Overwriting: {dst}\")  # check duplicates\n",
    "\n",
    "        #     shutil.copy(src, dst)\n",
    "\n",
    "        # except Exception as e:\n",
    "        #     print(f\"Error copying {src} → {dst}: {e}\")\n",
    "\n",
    "\n",
    "save_split(train_data, TRAIN_PATH)"
   ]
  },
  {
   "cell_type": "code",
   "execution_count": null,
   "metadata": {},
   "outputs": [],
   "source": []
  },
  {
   "cell_type": "code",
   "execution_count": null,
   "metadata": {},
   "outputs": [],
   "source": []
  },
  {
   "cell_type": "code",
   "execution_count": null,
   "metadata": {},
   "outputs": [],
   "source": []
  }
 ],
 "metadata": {
  "language_info": {
   "name": "python"
  }
 },
 "nbformat": 4,
 "nbformat_minor": 2
}
